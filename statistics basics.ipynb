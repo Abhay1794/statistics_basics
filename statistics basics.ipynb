{
 "cells": [
  {
   "cell_type": "code",
   "execution_count": 3,
   "metadata": {},
   "outputs": [],
   "source": [
    "# 1. Explain the different types of data (qualitative and quantitative) and provide examples of each. Discuss \n",
    "#nominal, ordinal, interval, and ratio scales.\n",
    "\n",
    "#Qualitative data:Qualitative data is descriptive and characterizes attributes or properties. \n",
    "# It is non-numerical and often used to categorize or label data.\n",
    "\n",
    "#Examples:\n",
    "#Colors of cars: red, blue, green, etc.\n",
    "#Types of fruits: apples, oranges, bananas.\n",
    "#Customer feedback: satisfied, neutral, dissatisfied.\n",
    "\n",
    "\n",
    "#Quantitative Data: Quantitative data is numerical and measures quantities.\n",
    "#  It can be counted or measured and is often used for statistical analysis.\n",
    "\n",
    "#Examples:\n",
    "#Height of individuals: 5.6 feet, 6.1 feet.\n",
    "#Temperature in degrees: 25°C, 30°C.\n",
    "#Number of students in a class: 20, 25, 30.\n",
    "#Scales of Measurement\n",
    "\n",
    "\n",
    "\n",
    "\n",
    "#1. Nominal Scale: The nominal scale is the simplest form of measurement.\n",
    "#It categorizes data without any quantitative value or order.\n",
    "\n",
    "#Examples:\n",
    "#Gender: male, female.\n",
    "#Blood type: A, B, AB, O.\n",
    "#Marital status: single, married, divorced.\n",
    "\n",
    "\n",
    "#2. Ordinal Scale: The ordinal scale categorizes data with a meaningful order\n",
    "#  but without a consistent difference between ranks.\n",
    "\n",
    "#Examples:\n",
    "#Customer satisfaction: satisfied, neutral, dissatisfied.\n",
    "#Ranks in a competition: first, second, third.\n",
    "#Education level: high school, bachelor's, master's, PhD.\n",
    "\n",
    "#3. Interval Scale: The interval scale measures data with meaningful intervals \n",
    "# between values, but there is no true zero point.\n",
    "\n",
    "#Examples:\n",
    "#Temperature: 20°C, 30°C, 40°C.\n",
    "#IQ scores: 90, 100, 110.\n",
    "#Calendar years: 2000, 2010, 2020.\n",
    "\n",
    "#4. Ratio Scale: The ratio scale measures data with a true zero point,\n",
    "#  allowing for the calculation of ratios.\n",
    "\n",
    "#Examples:\n",
    "#Weight: 50 kg, 70 kg, 90 kg.\n",
    "#Height: 150 cm, 170 cm, 190 cm.\n",
    "#Age: 10 years, 20 years, 30 years."
   ]
  },
  {
   "cell_type": "code",
   "execution_count": null,
   "metadata": {},
   "outputs": [
    {
     "name": "stdout",
     "output_type": "stream",
     "text": [
      "The average of all the data is: 6.428571428571429\n"
     ]
    }
   ],
   "source": [
    "# 2. What are the measures of central tendency, and when should you use each? Discuss the mean, median, \n",
    "#and mode with examples and situations where each is appropriate.\n",
    "\n",
    "#Central tendancy represents the center point of a dataset. \n",
    "#(1).Mean\n",
    "#(2).Median\n",
    "#(3).Mode\n",
    "\n",
    "#(1).Mean : The mean is the sum of all values in a dataset divided by the number of values.\n",
    "\n",
    "data = [8,3,5,1,12,9,7]\n",
    "import numpy as np\n",
    "Mean = np.mean(data)\n",
    "print(\"The average of all the data is:\" , Mean)\n",
    "\n",
    "#When to use: The mean is most appropriate when you have a dataset without extreme outliers\n",
    "#and want a simple average. It is widely used in various fields like economics, psychology,\n",
    "#and everyday life situations such as calculating average grades or salaries."
   ]
  },
  {
   "cell_type": "code",
   "execution_count": null,
   "metadata": {},
   "outputs": [
    {
     "name": "stdout",
     "output_type": "stream",
     "text": [
      "The middle value of the data is: 4.5\n"
     ]
    }
   ],
   "source": [
    "#(2).Median:The median is the middle value of a dataset when it is ordered from least to greatest.\n",
    "#If the dataset has an even number of values, the median is the average of the two middle values.\n",
    "\n",
    "x = [1,5,3,2,4,7,8,9]\n",
    "Median = np.median(x)\n",
    "print(\"The middle value of the data is:\", Median)\n",
    "\n",
    "#When to use: The median is best used when you want to find the center value of a dataset, \n",
    "#especially when the dataset has outliers or skewed data. It is less affected by extreme values."
   ]
  },
  {
   "cell_type": "code",
   "execution_count": 9,
   "metadata": {},
   "outputs": [
    {
     "name": "stdout",
     "output_type": "stream",
     "text": [
      "The most repeated element is: ModeResult(mode=np.int64(3), count=np.int64(6))\n"
     ]
    }
   ],
   "source": [
    "#(3).Mode:The mode is the value that occurs most frequently in a dataset. \n",
    "#A dataset can have more than one mode if multiple values occur with the same highest frequency.\n",
    "\n",
    "a = [1,2,3,3,3,5,6,4,3,3,3]\n",
    "from scipy import stats\n",
    "Mode = stats.mode(a)\n",
    "print(\"The most repeated element is:\", Mode)\n",
    "\n",
    "#When to use: The mode is most useful when you need to find the most common value in a dataset. \n",
    "#It is particularly helpful for categorical data where you want to know the most frequent category."
   ]
  },
  {
   "cell_type": "code",
   "execution_count": 12,
   "metadata": {},
   "outputs": [
    {
     "name": "stdout",
     "output_type": "stream",
     "text": [
      "The variance of a is: 1.652892561983471\n"
     ]
    }
   ],
   "source": [
    "#3. Explain the concept of dispersion. How do variance and standard deviation measure the spread of data?\n",
    "\n",
    "#Dispersion refers to the spread or variability of data points in a dataset. \n",
    "#It indicates how much the data points differ from each other and from the central tendency\n",
    "\n",
    "#i)Variance:\n",
    "#Variance measures the average squared deviation of each data point from the mean.\n",
    "#It indicates how spread out the data points are around the mean.\n",
    "\n",
    "Variance = np.var(a)\n",
    "print(\"The variance of a is:\", Variance)"
   ]
  },
  {
   "cell_type": "code",
   "execution_count": null,
   "metadata": {},
   "outputs": [
    {
     "name": "stdout",
     "output_type": "stream",
     "text": [
      "The standard deviation of a is: 1.28564869306645\n"
     ]
    }
   ],
   "source": [
    "#ii)Standard Deviation:\n",
    "#Standard deviation is the square root of the variance. \n",
    "#It measures the average deviation of each data point from the mean.\n",
    "\n",
    "Std_Dev = np.std(a)\n",
    "print(\"The standard deviation of a is:\", Std_Dev)"
   ]
  },
  {
   "cell_type": "code",
   "execution_count": 16,
   "metadata": {},
   "outputs": [],
   "source": [
    "# 4. What is a box plot, and what can it tell you about the distribution of data?\n",
    "\n",
    "\n",
    "#A box plot is a graphical representation of the distribution\n",
    "#of a dataset. It provides a visual summary of several important aspects of the data,\n",
    "#including its central tendency, variability, and the presence of outliers.\n",
    "\n",
    "#What a Box Plot Tells You\n",
    "#Central Tendency: The median provides a measure of the central value of the data.\n",
    "#Spread: The IQR shows the range within which the central 50% of the data lies, indicating the variability\n",
    "#Skewness: If the median is closer to Q1 or Q3, it suggests skewness in the data. \n",
    "#A median closer to Q1 indicates a positive skew, while a median closer to Q3 indicates a negative skew.\n",
    "#Outliers: Points outside the whiskers highlight potential outliers,\n",
    "#which can indicate variability and special cases in the dataset.\n",
    "#Symmetry: If the box and whiskers are roughly symmetric around the median,\n",
    "#the data is likely to be symmetrically distributed. If not, the data might be skewed."
   ]
  },
  {
   "cell_type": "code",
   "execution_count": null,
   "metadata": {},
   "outputs": [
    {
     "ename": "",
     "evalue": "",
     "output_type": "error",
     "traceback": [
      "\u001b[1;31mThe Kernel crashed while executing code in the current cell or a previous cell. \n",
      "\u001b[1;31mPlease review the code in the cell(s) to identify a possible cause of the failure. \n",
      "\u001b[1;31mClick <a href='https://aka.ms/vscodeJupyterKernelCrash'>here</a> for more info. \n",
      "\u001b[1;31mView Jupyter <a href='command:jupyter.viewOutput'>log</a> for further details."
     ]
    }
   ],
   "source": [
    "# 5. Discuss the role of random sampling in making inferences about populations.\n",
    "\n",
    "#Random sampling plays a crucial role in making inferences about populations. \n",
    "#It is a fundamental technique in statistics and research that helps ensure that \n",
    "#conclusions drawn from a sample are representative of the entire population\n",
    "\n",
    "#Making Inferences\n",
    "#Once a random sample is collected, researchers can use statistical techniques \n",
    "#to make inferences about the population. These techniques include:\n",
    "\n",
    "#Estimating Population Parameters: Using sample statistics (e.g., sample mean)\n",
    "#to estimate population parameters (e.g., population mean) with a certain level of confidence.\n",
    "\n",
    "#Hypothesis Testing: Testing hypotheses about the population based on sample data\n",
    "#and determining the likelihood that the observed results are due to chance.\n",
    "\n",
    "#Confidence Intervals: Calculating intervals within which the true population parameter \n",
    "#is likely to fall, with a specified level of confidence."
   ]
  },
  {
   "cell_type": "code",
   "execution_count": 1,
   "metadata": {},
   "outputs": [],
   "source": [
    "# 6. Explain the concept of skewness and its types. How does skewness affect the interpretation of data?\n",
    "\n",
    "#Skewness is a statistical measure that describes the asymmetry of the \n",
    "#distribution of values in a dataset around its mean.\n",
    "\n",
    "#Types of Skewness\n",
    "\n",
    "#Positive Skewness (Right-Skewed):\n",
    "#The right tail (larger values) is longer or fatter than the left tail.\n",
    "#The majority of the data values are concentrated on the left side of the distribution,\n",
    "#and the mean is greater than the median.\n",
    "#Example: Income distribution in most countries, where a few high-income earners stretch the upper end.\n",
    "\n",
    "#Negative Skewness (Left-Skewed):\n",
    "#The left tail (smaller values) is longer or fatter than the right tail.\n",
    "#The majority of the data values are concentrated on the right side of the distribution, \n",
    "#and the mean is less than the median.\n",
    "#Example: Age at retirement, where a few individuals retire significantly earlier than most.\n",
    "\n",
    "#Zero Skewness (Symmetric Distribution):\n",
    "#The tails on both sides of the distribution are balanced.\n",
    "# The mean, median, and mode are approximately equal.\n",
    "#Example: A perfect normal distribution.\n",
    "\n",
    "\n",
    "\n",
    "#Effects of Skewness on Data Interpretation:\n",
    "\n",
    "#Impact on Measures of Central Tendency\n",
    "#Misrepresentation of Data\n",
    "#Decision-Making Implications\n",
    "#Suitability for Statistical Methods\n",
    "\n"
   ]
  },
  {
   "cell_type": "code",
   "execution_count": 2,
   "metadata": {},
   "outputs": [],
   "source": [
    "# 7. What is the interquartile range (IQR), and how is it used to detect outliers?\n",
    "\n",
    "\n",
    "#The Interquartile Range (IQR) is a measure of statistical dispersion that indicates the spread of \n",
    "#the middle 50% of a dataset. It is calculated as the difference between the third quartile (Q3)\n",
    "#and the first quartile (Q1)\n",
    "\n",
    "#How is IQR Used to Detect Outliers?\n",
    "#Outliers are data points that fall significantly outside the range of typical values \n",
    "#in a dataset. The IQR is commonly used to detect outliers by defining boundaries \n",
    "#beyond which data points are considered anomalous:\n",
    "\n",
    "#Calculate IQR:\n",
    "\n",
    "#Identify Q1 and Q3 and compute \n",
    "\n",
    "#IQR =Q3−Q1.\n",
    "#Determine the Outlier Boundaries:\n",
    "\n",
    "#Lower Boundary: \n",
    "\n",
    "#Q1−1.5×IQR\n",
    "\n",
    "#Upper Boundary: \n",
    "\n",
    "#Q3+1.5×IQR\n",
    "#Identify Outliers:\n",
    "\n",
    "#Data points smaller than the lower boundary or larger than the upper boundary are considered outliers."
   ]
  },
  {
   "cell_type": "code",
   "execution_count": 3,
   "metadata": {},
   "outputs": [],
   "source": [
    "#8. Discuss the conditions under which the binomial distribution is used.\n",
    "\n",
    "\n",
    "#Conditions for Using the Binomial Distribution\n",
    "#The binomial distribution is applicable under the following conditions:\n",
    "\n",
    "#Fixed Number of Trials:\n",
    "#The experiment is repeated a fixed number of times, denoted by n.\n",
    "#Example: Tossing a coin 10 times.\n",
    "\n",
    "#Binary Outcomes:\n",
    "#Each trial has exactly two possible outcomes, commonly referred to as \"success\" (e.g., heads, win) and \"failure\" (e.g., tails, lose).\n",
    "#Example: Rolling a die and checking if the result is 4 (success) or not (failure).\n",
    "\n",
    "#Independence of Trials:\n",
    "#The outcome of one trial does not affect the outcome of any other trial.\n",
    "#Example: Tossing a coin repeatedly, where each toss is independent.\n",
    "\n",
    "#Discrete Variable:\n",
    "\n",
    "#The variable of interest is the number of successes in n trials, which is a discrete value."
   ]
  },
  {
   "cell_type": "code",
   "execution_count": 6,
   "metadata": {},
   "outputs": [],
   "source": [
    "# 9. Explain the properties of the normal distribution and the empirical rule (68-95-99.7 rule)\n",
    "\n",
    "#Key Properties of the Normal Distribution:\n",
    "#Symmetry:\n",
    "#The distribution is perfectly symmetric around its mean (μ).\n",
    "#The left and right halves of the curve are mirror images.\n",
    "\n",
    "#Bell-Shaped Curve:\n",
    "#The curve has a peak at the mean (μ) and tapers off symmetrically as it moves away.\n",
    "\n",
    "#Mean, Median, and Mode:\n",
    "#In a normal distribution, the mean, median, and mode are all equal and located at the center of the distribution.\n",
    "\n",
    "#Defined by Two Parameters:\n",
    "#μ (mean): Determines the center of the distribution.\n",
    "#σ (standard deviation): Determines the spread (width) of the distribution.\n",
    "\n",
    "#Asymptotic:\n",
    "#The tails of the curve approach, but never touch, the horizontal axis.\n",
    "#Total Area Under the Curve:\n",
    "#The total area under the curve equals 1, representing the total probability.\n",
    "\n",
    "#Empirical Rule:\n",
    "#Approximately 68% of data falls within 1 standard deviation (σ) of the mean.\n",
    "#95% of data falls within 2 standard deviations.\n",
    "#99.7% of data falls within 3 standard deviations.\n",
    "\n",
    "\n",
    "\n",
    "#Empirical Rule :\n",
    "#68% of the data falls within 1 standard deviation (σ) of the mean (μ):\n",
    "#This means that if you measure one standard deviation above and below the mean,\n",
    "#about 68% of the data points will lie within this range.\n",
    "\n",
    "#95% of the data falls within 2 standard deviations (σ) of the mean (μ):\n",
    "#Two standard deviations above and below the mean will encompass approximately 95% of the data points.\n",
    "\n",
    "#99.7% of the data falls within 3 standard deviations (σ) of the mean (μ):\n",
    "#Three standard deviations above and below the mean cover almost all (99.7%) of\n",
    "#the data points in the distribution."
   ]
  },
  {
   "cell_type": "code",
   "execution_count": 7,
   "metadata": {},
   "outputs": [],
   "source": [
    "# 11. Explain what a random variable is and differentiate between discrete and continuous random variables.\n",
    "\n",
    "\n",
    "#A random variable is a variable whose values are determined by the outcomes of a random phenomenon.\n",
    "#It is a function that assigns a numerical value to each possible outcome of a random process.\n",
    "\n",
    "#Types of Random Variables\n",
    "#1. Discrete Random Variables:\n",
    "#A discrete random variable takes on a countable number of distinct values. \n",
    "#These values are usually whole numbers (integers) and arise from scenarios where outcomes can be counted.\n",
    "\n",
    "#Examples:\n",
    "#The number of heads when flipping a coin three times.\n",
    "#The number of customers arriving at a store in an hour.\n",
    "#The number of students in a classroom.\n",
    "\n",
    "#2. Continuous Random Variables:\n",
    "# A continuous random variable takes on an infinite number of possible values within a given range. These values can be any number within the interval and arise from measuring processes.\n",
    "\n",
    "#Examples:\n",
    "#The height of students in a class.\n",
    "#The time it takes to run a marathon.\n",
    "#The amount of rainfall in a month."
   ]
  },
  {
   "cell_type": "code",
   "execution_count": 14,
   "metadata": {},
   "outputs": [
    {
     "data": {
      "text/html": [
       "<div>\n",
       "<style scoped>\n",
       "    .dataframe tbody tr th:only-of-type {\n",
       "        vertical-align: middle;\n",
       "    }\n",
       "\n",
       "    .dataframe tbody tr th {\n",
       "        vertical-align: top;\n",
       "    }\n",
       "\n",
       "    .dataframe thead th {\n",
       "        text-align: right;\n",
       "    }\n",
       "</style>\n",
       "<table border=\"1\" class=\"dataframe\">\n",
       "  <thead>\n",
       "    <tr style=\"text-align: right;\">\n",
       "      <th></th>\n",
       "      <th>total_bill</th>\n",
       "      <th>tip</th>\n",
       "      <th>size</th>\n",
       "    </tr>\n",
       "  </thead>\n",
       "  <tbody>\n",
       "    <tr>\n",
       "      <th>total_bill</th>\n",
       "      <td>79.252939</td>\n",
       "      <td>8.323502</td>\n",
       "      <td>5.065983</td>\n",
       "    </tr>\n",
       "    <tr>\n",
       "      <th>tip</th>\n",
       "      <td>8.323502</td>\n",
       "      <td>1.914455</td>\n",
       "      <td>0.643906</td>\n",
       "    </tr>\n",
       "    <tr>\n",
       "      <th>size</th>\n",
       "      <td>5.065983</td>\n",
       "      <td>0.643906</td>\n",
       "      <td>0.904591</td>\n",
       "    </tr>\n",
       "  </tbody>\n",
       "</table>\n",
       "</div>"
      ],
      "text/plain": [
       "            total_bill       tip      size\n",
       "total_bill   79.252939  8.323502  5.065983\n",
       "tip           8.323502  1.914455  0.643906\n",
       "size          5.065983  0.643906  0.904591"
      ]
     },
     "execution_count": 14,
     "metadata": {},
     "output_type": "execute_result"
    }
   ],
   "source": [
    "# 12. Provide an example dataset, calculate both covariance and correlation, and interpret the results.\n",
    "\n",
    "import seaborn as sns\n",
    "df = sns.load_dataset('tips')\n",
    "df.cov(numeric_only=True)\n"
   ]
  },
  {
   "cell_type": "code",
   "execution_count": 17,
   "metadata": {},
   "outputs": [
    {
     "data": {
      "text/html": [
       "<div>\n",
       "<style scoped>\n",
       "    .dataframe tbody tr th:only-of-type {\n",
       "        vertical-align: middle;\n",
       "    }\n",
       "\n",
       "    .dataframe tbody tr th {\n",
       "        vertical-align: top;\n",
       "    }\n",
       "\n",
       "    .dataframe thead th {\n",
       "        text-align: right;\n",
       "    }\n",
       "</style>\n",
       "<table border=\"1\" class=\"dataframe\">\n",
       "  <thead>\n",
       "    <tr style=\"text-align: right;\">\n",
       "      <th></th>\n",
       "      <th>total_bill</th>\n",
       "      <th>tip</th>\n",
       "      <th>size</th>\n",
       "    </tr>\n",
       "  </thead>\n",
       "  <tbody>\n",
       "    <tr>\n",
       "      <th>total_bill</th>\n",
       "      <td>1.000000</td>\n",
       "      <td>0.675734</td>\n",
       "      <td>0.598315</td>\n",
       "    </tr>\n",
       "    <tr>\n",
       "      <th>tip</th>\n",
       "      <td>0.675734</td>\n",
       "      <td>1.000000</td>\n",
       "      <td>0.489299</td>\n",
       "    </tr>\n",
       "    <tr>\n",
       "      <th>size</th>\n",
       "      <td>0.598315</td>\n",
       "      <td>0.489299</td>\n",
       "      <td>1.000000</td>\n",
       "    </tr>\n",
       "  </tbody>\n",
       "</table>\n",
       "</div>"
      ],
      "text/plain": [
       "            total_bill       tip      size\n",
       "total_bill    1.000000  0.675734  0.598315\n",
       "tip           0.675734  1.000000  0.489299\n",
       "size          0.598315  0.489299  1.000000"
      ]
     },
     "execution_count": 17,
     "metadata": {},
     "output_type": "execute_result"
    }
   ],
   "source": [
    "df.corr(numeric_only=True)"
   ]
  },
  {
   "cell_type": "code",
   "execution_count": null,
   "metadata": {},
   "outputs": [],
   "source": []
  }
 ],
 "metadata": {
  "kernelspec": {
   "display_name": "Python 3",
   "language": "python",
   "name": "python3"
  },
  "language_info": {
   "codemirror_mode": {
    "name": "ipython",
    "version": 3
   },
   "file_extension": ".py",
   "mimetype": "text/x-python",
   "name": "python",
   "nbconvert_exporter": "python",
   "pygments_lexer": "ipython3",
   "version": "3.11.9"
  }
 },
 "nbformat": 4,
 "nbformat_minor": 2
}
